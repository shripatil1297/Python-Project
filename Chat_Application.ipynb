{
  "nbformat": 4,
  "nbformat_minor": 0,
  "metadata": {
    "colab": {
      "name": "Chat_Application.ipynb",
      "provenance": [],
      "authorship_tag": "ABX9TyNKaPs4bX8GBeB+lMYl18Nn",
      "include_colab_link": true
    },
    "kernelspec": {
      "name": "python3",
      "display_name": "Python 3"
    },
    "language_info": {
      "name": "python"
    }
  },
  "cells": [
    {
      "cell_type": "markdown",
      "metadata": {
        "id": "view-in-github",
        "colab_type": "text"
      },
      "source": [
        "<a href=\"https://colab.research.google.com/github/shripatil1297/Python-Project/blob/main/Chat_Application.ipynb\" target=\"_parent\"><img src=\"https://colab.research.google.com/assets/colab-badge.svg\" alt=\"Open In Colab\"/></a>"
      ]
    },
    {
      "cell_type": "markdown",
      "source": [
        "# Install the Modules\n"
      ],
      "metadata": {
        "id": "dXPnZTu2sNnJ"
      }
    },
    {
      "cell_type": "code",
      "execution_count": 1,
      "metadata": {
        "colab": {
          "base_uri": "https://localhost:8080/"
        },
        "id": "0xCnY5QirNIB",
        "outputId": "656500ea-9275-4382-dcee-cf242060a12e"
      },
      "outputs": [
        {
          "output_type": "stream",
          "name": "stdout",
          "text": [
            "Collecting chatterbot\n",
            "  Downloading ChatterBot-1.0.8-py2.py3-none-any.whl (63 kB)\n",
            "\u001b[K     |████████████████████████████████| 63 kB 1.4 MB/s \n",
            "\u001b[?25hCollecting sqlalchemy<1.4,>=1.3\n",
            "  Downloading SQLAlchemy-1.3.24-cp37-cp37m-manylinux2010_x86_64.whl (1.3 MB)\n",
            "\u001b[K     |████████████████████████████████| 1.3 MB 19.2 MB/s \n",
            "\u001b[?25hRequirement already satisfied: python-dateutil<2.9,>=2.8 in /usr/local/lib/python3.7/dist-packages (from chatterbot) (2.8.2)\n",
            "Requirement already satisfied: pytz in /usr/local/lib/python3.7/dist-packages (from chatterbot) (2018.9)\n",
            "Collecting mathparse<0.2,>=0.1\n",
            "  Downloading mathparse-0.1.2-py3-none-any.whl (7.2 kB)\n",
            "Requirement already satisfied: six>=1.5 in /usr/local/lib/python3.7/dist-packages (from python-dateutil<2.9,>=2.8->chatterbot) (1.15.0)\n",
            "Installing collected packages: sqlalchemy, mathparse, chatterbot\n",
            "  Attempting uninstall: sqlalchemy\n",
            "    Found existing installation: SQLAlchemy 1.4.32\n",
            "    Uninstalling SQLAlchemy-1.4.32:\n",
            "      Successfully uninstalled SQLAlchemy-1.4.32\n",
            "Successfully installed chatterbot-1.0.8 mathparse-0.1.2 sqlalchemy-1.3.24\n"
          ]
        }
      ],
      "source": [
        "!pip install chatterbot"
      ]
    },
    {
      "cell_type": "code",
      "source": [
        "!pip install chatterbot_corpus"
      ],
      "metadata": {
        "colab": {
          "base_uri": "https://localhost:8080/"
        },
        "id": "rgbakIYUr9Ng",
        "outputId": "6018b405-f59f-4b12-c1b1-a31d3b8be8fe"
      },
      "execution_count": 2,
      "outputs": [
        {
          "output_type": "stream",
          "name": "stdout",
          "text": [
            "Collecting chatterbot_corpus\n",
            "  Downloading chatterbot_corpus-1.2.0-py2.py3-none-any.whl (117 kB)\n",
            "\u001b[?25l\r\u001b[K     |██▉                             | 10 kB 15.3 MB/s eta 0:00:01\r\u001b[K     |█████▋                          | 20 kB 21.4 MB/s eta 0:00:01\r\u001b[K     |████████▍                       | 30 kB 21.4 MB/s eta 0:00:01\r\u001b[K     |███████████▏                    | 40 kB 13.1 MB/s eta 0:00:01\r\u001b[K     |██████████████                  | 51 kB 6.2 MB/s eta 0:00:01\r\u001b[K     |████████████████▊               | 61 kB 7.2 MB/s eta 0:00:01\r\u001b[K     |███████████████████▋            | 71 kB 7.9 MB/s eta 0:00:01\r\u001b[K     |██████████████████████▍         | 81 kB 6.7 MB/s eta 0:00:01\r\u001b[K     |█████████████████████████▏      | 92 kB 7.4 MB/s eta 0:00:01\r\u001b[K     |████████████████████████████    | 102 kB 8.2 MB/s eta 0:00:01\r\u001b[K     |██████████████████████████████▊ | 112 kB 8.2 MB/s eta 0:00:01\r\u001b[K     |████████████████████████████████| 117 kB 8.2 MB/s \n",
            "\u001b[?25hRequirement already satisfied: PyYAML<4.0,>=3.12 in /usr/local/lib/python3.7/dist-packages (from chatterbot_corpus) (3.13)\n",
            "Installing collected packages: chatterbot-corpus\n",
            "Successfully installed chatterbot-corpus-1.2.0\n"
          ]
        }
      ]
    },
    {
      "cell_type": "markdown",
      "source": [
        "# Import the Modules\n",
        "\n"
      ],
      "metadata": {
        "id": "GjsIrhAysJi4"
      }
    },
    {
      "cell_type": "code",
      "source": [
        "from chatterbot import ChatBot\n",
        "from chatterbot.trainers import ListTrainer, ChatterBotCorpusTrainer"
      ],
      "metadata": {
        "id": "Av2lIP6rsALa"
      },
      "execution_count": 3,
      "outputs": []
    },
    {
      "cell_type": "code",
      "source": [
        "# initialize the chatbot\n",
        "df = ChatBot(name='ShreePatil', read_only=True, logic_adapters=['chatterbot.logic.BestMatch'])"
      ],
      "metadata": {
        "id": "XAFZtbu7saVk"
      },
      "execution_count": 4,
      "outputs": []
    },
    {
      "cell_type": "code",
      "source": [
        "corpus_trainer = ChatterBotCorpusTrainer(df)\n",
        "corpus_trainer.train('chatterbot.corpus.english')"
      ],
      "metadata": {
        "colab": {
          "base_uri": "https://localhost:8080/"
        },
        "id": "5H0q3tBksmVR",
        "outputId": "7d247b65-8ef2-4b35-8ed9-37acab8acb36"
      },
      "execution_count": 5,
      "outputs": [
        {
          "output_type": "stream",
          "name": "stdout",
          "text": [
            "Training ai.yml: [####################] 100%\n",
            "Training botprofile.yml: [####################] 100%\n",
            "Training computers.yml: [####################] 100%\n",
            "Training conversations.yml: [####################] 100%\n",
            "Training emotion.yml: [####################] 100%\n",
            "Training food.yml: [####################] 100%\n",
            "Training gossip.yml: [####################] 100%\n",
            "Training greetings.yml: [####################] 100%\n",
            "Training health.yml: [####################] 100%\n",
            "Training history.yml: [####################] 100%\n",
            "Training humor.yml: [####################] 100%\n",
            "Training literature.yml: [####################] 100%\n",
            "Training money.yml: [####################] 100%\n",
            "Training movies.yml: [####################] 100%\n",
            "Training politics.yml: [####################] 100%\n",
            "Training psychology.yml: [####################] 100%\n",
            "Training science.yml: [####################] 100%\n",
            "Training sports.yml: [####################] 100%\n",
            "Training trivia.yml: [####################] 100%\n"
          ]
        }
      ]
    },
    {
      "cell_type": "code",
      "source": [
        "print(df.get_response('Hello'))"
      ],
      "metadata": {
        "colab": {
          "base_uri": "https://localhost:8080/"
        },
        "id": "yLtrxOJOsrju",
        "outputId": "92d7cf88-5050-4135-d572-8afcb80953f5"
      },
      "execution_count": 6,
      "outputs": [
        {
          "output_type": "stream",
          "name": "stdout",
          "text": [
            "Hi\n"
          ]
        }
      ]
    },
    {
      "cell_type": "code",
      "source": [
        "while True:\n",
        "    input_text = input('Simaran:')\n",
        "    if input_text == 'quit':\n",
        "        break\n",
        "    print('RAJ:',df.get_response(input_text))"
      ],
      "metadata": {
        "colab": {
          "base_uri": "https://localhost:8080/"
        },
        "id": "phUDBc5vsyLQ",
        "outputId": "bf542bdf-062c-4ed0-e515-04f508f630ba"
      },
      "execution_count": 7,
      "outputs": [
        {
          "name": "stdout",
          "output_type": "stream",
          "text": [
            "Simaran:how are you\n",
            "RAJ: I am on the Internet.\n",
            "Simaran:okay\n",
            "RAJ: O'm a not a comedy why don't you check out a joke?\n",
            "Simaran:no i m not\n",
            "RAJ: Tell me a joke\n",
            "Simaran:i cant\n",
            "RAJ: Software copying is a form of digital cloning.\n",
            "Simaran:what are u doning\n",
            "RAJ: Tell me a joke\n",
            "Simaran:quit\n"
          ]
        }
      ]
    },
    {
      "cell_type": "markdown",
      "source": [
        "# Train using Custom Input\n"
      ],
      "metadata": {
        "id": "FGsNImZFtjMd"
      }
    },
    {
      "cell_type": "code",
      "source": [
        "train_list1 = ['what is your name?', 'I am Shree. How can I help you', 'I am Raj. Nice to meet you', 'which language you are using?']"
      ],
      "metadata": {
        "id": "rFWdBr3as4GC"
      },
      "execution_count": 12,
      "outputs": []
    },
    {
      "cell_type": "code",
      "source": [
        "list_trainer = ListTrainer(df)\n",
        "list_trainer.train(train_list1)"
      ],
      "metadata": {
        "colab": {
          "base_uri": "https://localhost:8080/"
        },
        "id": "NmavmiFVtzgp",
        "outputId": "72e5059d-5e60-455c-d437-8474841a07f2"
      },
      "execution_count": 13,
      "outputs": [
        {
          "output_type": "stream",
          "name": "stdout",
          "text": [
            "List Trainer: [####################] 100%\n"
          ]
        }
      ]
    },
    {
      "cell_type": "markdown",
      "source": [
        "# Test the Results"
      ],
      "metadata": {
        "id": "Hb3fKjvIuHUt"
      }
    },
    {
      "cell_type": "code",
      "source": [
        "while True:\n",
        "    input_text = input('You:')\n",
        "    if input_text == 'quit':\n",
        "        break\n",
        "    print('Raj:', df.get_response(input_text))"
      ],
      "metadata": {
        "colab": {
          "base_uri": "https://localhost:8080/"
        },
        "id": "SyGsvbLwuFYm",
        "outputId": "990ebf4f-dd61-4ab8-dfc2-019d79916780"
      },
      "execution_count": 14,
      "outputs": [
        {
          "name": "stdout",
          "output_type": "stream",
          "text": [
            "You:How are you doing?\n",
            "Raj: I am doing well.\n",
            "You:What is your name?\n",
            "Raj: I am RAJ. How can I help you\n",
            "You:what u doing?\n",
            "Raj: It all makes sense to my artificial mind.\n",
            "You:Good\n",
            "Raj: some people like guns.\n",
            "You:Like you\n",
            "Raj: I'm on IRC. I never have time to feel lonely!\n",
            "You:quit\n"
          ]
        }
      ]
    },
    {
      "cell_type": "code",
      "source": [
        ""
      ],
      "metadata": {
        "id": "mSK4vZ-tuNhx"
      },
      "execution_count": null,
      "outputs": []
    }
  ]
}